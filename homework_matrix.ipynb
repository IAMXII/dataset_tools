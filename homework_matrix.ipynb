{
 "cells": [
  {
   "metadata": {},
   "cell_type": "markdown",
   "source": "### 矩阵分析作业1",
   "id": "d7c04a07255d204a"
  },
  {
   "cell_type": "code",
   "id": "initial_id",
   "metadata": {
    "collapsed": true,
    "ExecuteTime": {
     "end_time": "2025-09-19T03:16:31.496236Z",
     "start_time": "2025-09-19T03:16:31.487282Z"
    }
   },
   "source": [
    "import numpy as np\n",
    "\n",
    "mat_a = np.array([[1, 2, 1],\n",
    "                  [0, 1, 1],\n",
    "                  [-1, 1, 1]])\n",
    "mat_b = np.array([[0, -1, 1],\n",
    "                  [1, 1, 2],\n",
    "                  [1, 0, 1]])\n",
    "B = np.linalg.inv(mat_a) @ mat_b\n",
    "print(B)"
   ],
   "outputs": [
    {
     "name": "stdout",
     "output_type": "stream",
     "text": [
      "[[-2.22044605e-16  1.00000000e+00  1.00000000e+00]\n",
      " [-1.00000000e+00 -3.00000000e+00 -2.00000000e+00]\n",
      " [ 2.00000000e+00  4.00000000e+00  4.00000000e+00]]\n"
     ]
    }
   ],
   "execution_count": 2
  },
  {
   "metadata": {},
   "cell_type": "code",
   "outputs": [],
   "execution_count": null,
   "source": "",
   "id": "d5e820511870138b"
  }
 ],
 "metadata": {
  "kernelspec": {
   "display_name": "Python 3",
   "language": "python",
   "name": "python3"
  },
  "language_info": {
   "codemirror_mode": {
    "name": "ipython",
    "version": 2
   },
   "file_extension": ".py",
   "mimetype": "text/x-python",
   "name": "python",
   "nbconvert_exporter": "python",
   "pygments_lexer": "ipython2",
   "version": "2.7.6"
  }
 },
 "nbformat": 4,
 "nbformat_minor": 5
}
