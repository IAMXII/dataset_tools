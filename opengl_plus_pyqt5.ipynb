{
 "cells": [
  {
   "cell_type": "code",
   "id": "initial_id",
   "metadata": {
    "collapsed": true,
    "ExecuteTime": {
     "end_time": "2024-11-15T08:29:49.473023Z",
     "start_time": "2024-11-15T08:29:42.354640Z"
    }
   },
   "source": [
    "from PyQt6.QtWidgets import QApplication, QMainWindow, QPushButton,  QPlainTextEdit\n",
    "\n",
    "app = QApplication([])\n",
    "\n",
    "window = QMainWindow()\n",
    "window.resize(500, 400)\n",
    "window.move(300, 310)   ### 相对显示器\n",
    "window.setWindowTitle('薪资统计')\n",
    "\n",
    "textEdit = QPlainTextEdit(window)\n",
    "textEdit.setPlaceholderText(\"请输入薪资表\")     \n",
    "textEdit.move(10,25)      ### 主窗口中相对位置   \n",
    "textEdit.resize(300,350)\n",
    "\n",
    "button = QPushButton('统计', window)\n",
    "button.move(380,80)\n",
    "\n",
    "window.show()\n",
    "\n",
    "app.exec() # PySide6 是 exec 而不是 exec_\n"
   ],
   "outputs": [
    {
     "name": "stderr",
     "output_type": "stream",
     "text": [
      "2024-11-15 16:29:42.722 python[49812:5326541] +[IMKClient subclass]: chose IMKClient_Modern\n",
      "2024-11-15 16:29:45.887 python[49812:5326541] TSM AdjustCapsLockLEDForKeyTransitionHandling - _ISSetPhysicalKeyboardCapsLockLED Inhibit\n"
     ]
    },
    {
     "data": {
      "text/plain": [
       "0"
      ]
     },
     "execution_count": 1,
     "metadata": {},
     "output_type": "execute_result"
    }
   ],
   "execution_count": 1
  },
  {
   "metadata": {},
   "cell_type": "code",
   "source": [
    "from PyQt6.QtWidgets import QApplication, QMainWindow, QPushButton,  QPlainTextEdit,QMessageBox\n",
    "\n",
    "def handleCalc():\n",
    "    info = textEdit.toPlainText()\n",
    "\n",
    "    # 薪资20000 以上 和 以下 的人员名单\n",
    "    salary_above_20k = ''\n",
    "    salary_below_20k = ''\n",
    "    for line in info.splitlines():\n",
    "        if not line.strip():\n",
    "            continue\n",
    "        parts = line.split(' ')\n",
    "        # 去掉列表中的空字符串内容\n",
    "        parts = [p for p in parts if p]\n",
    "        name,salary,age = parts\n",
    "        if int(salary) >= 20000:\n",
    "            salary_above_20k += name + '\\n'\n",
    "        else:\n",
    "            salary_below_20k += name + '\\n'\n",
    "\n",
    "    QMessageBox.about(window,\n",
    "                '统计结果',\n",
    "                f'''薪资20000 以上的有：\\n{salary_above_20k}\n",
    "                \\n薪资20000 以下的有：\\n{salary_below_20k}'''\n",
    "                )\n",
    "\n",
    "app = QApplication([])\n",
    "\n",
    "window = QMainWindow()\n",
    "window.resize(500, 400)\n",
    "window.move(300, 300)\n",
    "window.setWindowTitle('薪资统计')\n",
    "\n",
    "textEdit = QPlainTextEdit(window)\n",
    "textEdit.setPlaceholderText(\"请输入薪资表\")\n",
    "textEdit.move(10,25)\n",
    "textEdit.resize(300,350)\n",
    "\n",
    "button = QPushButton('统计', window)\n",
    "button.move(380,80)\n",
    "button.clicked.connect(handleCalc)   ### 根据按键被点击的信号执行相应程序\n",
    "\n",
    "window.show()\n",
    "\n",
    "app.exec()"
   ],
   "id": "8d3a598bd31190b5",
   "outputs": [],
   "execution_count": null
  },
  {
   "metadata": {
    "ExecuteTime": {
     "end_time": "2024-11-15T08:59:17.247372Z",
     "start_time": "2024-11-15T08:59:08.336744Z"
    }
   },
   "cell_type": "code",
   "source": [
    "### 代码封装 \n",
    "from PyQt6.QtWidgets import QApplication, QMainWindow, QPushButton,  QPlainTextEdit,QMessageBox\n",
    "\n",
    "class Stats:\n",
    "    def __init__(self):\n",
    "        self.window = QMainWindow()\n",
    "        self.window.resize(500, 400)\n",
    "        self.window.move(300, 300)\n",
    "        self.window.setWindowTitle('薪资统计')\n",
    "\n",
    "        self.textEdit = QPlainTextEdit(self.window)\n",
    "        self.textEdit.setPlaceholderText(\"请输入薪资表\")\n",
    "        self.textEdit.move(10, 25)\n",
    "        self.textEdit.resize(300, 350)\n",
    "\n",
    "        self.button = QPushButton('统计', self.window)\n",
    "        self.button.setStyleSheet(\"\"\"\n",
    "            QPushButton {\n",
    "                background-color: #4CAF50;  /* 背景色 */\n",
    "                color: white;               /* 字体颜色 */\n",
    "                border-radius: 8px;        /* 圆角半径 */\n",
    "                font-size: 14px;            /* 字体大小 */\n",
    "                padding: 4px;              /* 内边距 */\n",
    "            }\n",
    "            QPushButton:hover {\n",
    "                background-color: #45a049;  /* 鼠标悬停时的背景色 */\n",
    "            }\n",
    "            QPushButton:pressed {\n",
    "                background-color: #3e8e41;  /* 按下时的背景色 */\n",
    "            }\n",
    "        \"\"\")\n",
    "        self.button.move(380, 80)\n",
    "\n",
    "        self.button.clicked.connect(self.handleCalc)\n",
    "\n",
    "\n",
    "    def handleCalc(self):\n",
    "        info = self.textEdit.toPlainText()\n",
    "\n",
    "        # 薪资20000 以上 和 以下 的人员名单\n",
    "        salary_above_20k = ''\n",
    "        salary_below_20k = ''\n",
    "        for line in info.splitlines():\n",
    "            if not line.strip():\n",
    "                continue\n",
    "            parts = line.split(' ')\n",
    "            # 去掉列表中的空字符串内容\n",
    "            parts = [p for p in parts if p]\n",
    "            name,salary,age = parts\n",
    "            if int(salary) >= 20000:\n",
    "                salary_above_20k += name + '\\n'\n",
    "            else:\n",
    "                salary_below_20k += name + '\\n'\n",
    "\n",
    "        QMessageBox.about(self.window,\n",
    "                    '统计结果',\n",
    "                    f'''薪资20000 以上的有：\\n{salary_above_20k}\n",
    "                    \\n薪资20000 以下的有：\\n{salary_below_20k}'''\n",
    "                    )\n",
    "\n",
    "app = QApplication([])\n",
    "stats = Stats()\n",
    "stats.window.show()\n",
    "app.exec()"
   ],
   "id": "6f6cea14b11a2be8",
   "outputs": [
    {
     "name": "stderr",
     "output_type": "stream",
     "text": [
      "2024-11-15 16:59:08.638 python[56345:5363712] +[IMKClient subclass]: chose IMKClient_Modern\n"
     ]
    },
    {
     "data": {
      "text/plain": [
       "0"
      ]
     },
     "execution_count": 1,
     "metadata": {},
     "output_type": "execute_result"
    }
   ],
   "execution_count": 1
  },
  {
   "metadata": {
    "ExecuteTime": {
     "end_time": "2024-11-15T08:47:53.787214Z",
     "start_time": "2024-11-15T08:47:53.602958Z"
    }
   },
   "cell_type": "code",
   "source": [
    "### 动态加载ui文件\n",
    "from PyQt6.QtWidgets import QApplication, QMessageBox\n",
    "from PyQt6 import uic\n",
    "\n",
    "class Stats:\n",
    "\n",
    "    def __init__(self):\n",
    "        # 从文件中加载UI定义\n",
    "\n",
    "        # 从 UI 定义中动态 创建一个相应的窗口对象\n",
    "        # 注意：里面的控件对象也成为窗口对象的属性了\n",
    "        # 比如 self.ui.button , self.ui.textEdit\n",
    "        self.ui = uic.loadUi('main.ui')\n",
    "\n",
    "        self.ui.button.clicked.connect(self.handleCalc)\n",
    "\n",
    "    def handleCalc(self):\n",
    "        info = self.ui.textEdit.toPlainText()\n",
    "\n",
    "        salary_above_20k = ''\n",
    "        salary_below_20k = ''\n",
    "        for line in info.splitlines():\n",
    "            if not line.strip():\n",
    "                continue\n",
    "            parts = line.split(' ')\n",
    "\n",
    "            parts = [p for p in parts if p]\n",
    "            name,salary,age = parts\n",
    "            if int(salary) >= 20000:\n",
    "                salary_above_20k += name + '\\n'\n",
    "            else:\n",
    "                salary_below_20k += name + '\\n'\n",
    "\n",
    "        QMessageBox.about(self.ui,\n",
    "                    '统计结果',\n",
    "                    f'''薪资20000 以上的有：\\n{salary_above_20k}\n",
    "                    \\n薪资20000 以下的有：\\n{salary_below_20k}'''\n",
    "                    )\n",
    "\n",
    "app = QApplication([])\n",
    "stats = Stats()\n",
    "stats.ui.show()\n",
    "app.exec()"
   ],
   "id": "d7784f3058b4bc2f",
   "outputs": [
    {
     "ename": "UIFileException",
     "evalue": "main.ui: invalid Qt Designer file: [Errno 2] No such file or directory: 'main.ui'",
     "output_type": "error",
     "traceback": [
      "\u001B[0;31m---------------------------------------------------------------------------\u001B[0m",
      "\u001B[0;31mFileNotFoundError\u001B[0m                         Traceback (most recent call last)",
      "File \u001B[0;32m~/.local/lib/python3.12/site-packages/PyQt6/uic/ui_file.py:35\u001B[0m, in \u001B[0;36mUIFile.__init__\u001B[0;34m(self, ui_file)\u001B[0m\n\u001B[1;32m     34\u001B[0m \u001B[38;5;28;01mtry\u001B[39;00m:\n\u001B[0;32m---> 35\u001B[0m     document \u001B[38;5;241m=\u001B[39m \u001B[43mElementTree\u001B[49m\u001B[38;5;241;43m.\u001B[39;49m\u001B[43mparse\u001B[49m\u001B[43m(\u001B[49m\u001B[43mui_file\u001B[49m\u001B[43m)\u001B[49m\n\u001B[1;32m     36\u001B[0m \u001B[38;5;28;01mexcept\u001B[39;00m \u001B[38;5;167;01mException\u001B[39;00m \u001B[38;5;28;01mas\u001B[39;00m e:\n",
      "File \u001B[0;32m~/miniforge3/lib/python3.12/xml/etree/ElementTree.py:1204\u001B[0m, in \u001B[0;36mparse\u001B[0;34m(source, parser)\u001B[0m\n\u001B[1;32m   1203\u001B[0m tree \u001B[38;5;241m=\u001B[39m ElementTree()\n\u001B[0;32m-> 1204\u001B[0m \u001B[43mtree\u001B[49m\u001B[38;5;241;43m.\u001B[39;49m\u001B[43mparse\u001B[49m\u001B[43m(\u001B[49m\u001B[43msource\u001B[49m\u001B[43m,\u001B[49m\u001B[43m \u001B[49m\u001B[43mparser\u001B[49m\u001B[43m)\u001B[49m\n\u001B[1;32m   1205\u001B[0m \u001B[38;5;28;01mreturn\u001B[39;00m tree\n",
      "File \u001B[0;32m~/miniforge3/lib/python3.12/xml/etree/ElementTree.py:558\u001B[0m, in \u001B[0;36mElementTree.parse\u001B[0;34m(self, source, parser)\u001B[0m\n\u001B[1;32m    557\u001B[0m \u001B[38;5;28;01mif\u001B[39;00m \u001B[38;5;129;01mnot\u001B[39;00m \u001B[38;5;28mhasattr\u001B[39m(source, \u001B[38;5;124m\"\u001B[39m\u001B[38;5;124mread\u001B[39m\u001B[38;5;124m\"\u001B[39m):\n\u001B[0;32m--> 558\u001B[0m     source \u001B[38;5;241m=\u001B[39m \u001B[38;5;28;43mopen\u001B[39;49m\u001B[43m(\u001B[49m\u001B[43msource\u001B[49m\u001B[43m,\u001B[49m\u001B[43m \u001B[49m\u001B[38;5;124;43m\"\u001B[39;49m\u001B[38;5;124;43mrb\u001B[39;49m\u001B[38;5;124;43m\"\u001B[39;49m\u001B[43m)\u001B[49m\n\u001B[1;32m    559\u001B[0m     close_source \u001B[38;5;241m=\u001B[39m \u001B[38;5;28;01mTrue\u001B[39;00m\n",
      "\u001B[0;31mFileNotFoundError\u001B[0m: [Errno 2] No such file or directory: 'main.ui'",
      "\nDuring handling of the above exception, another exception occurred:\n",
      "\u001B[0;31mUIFileException\u001B[0m                           Traceback (most recent call last)",
      "Cell \u001B[0;32mIn[2], line 41\u001B[0m\n\u001B[1;32m     34\u001B[0m         QMessageBox\u001B[38;5;241m.\u001B[39mabout(\u001B[38;5;28mself\u001B[39m\u001B[38;5;241m.\u001B[39mui,\n\u001B[1;32m     35\u001B[0m                     \u001B[38;5;124m'\u001B[39m\u001B[38;5;124m统计结果\u001B[39m\u001B[38;5;124m'\u001B[39m,\n\u001B[1;32m     36\u001B[0m                     \u001B[38;5;124mf\u001B[39m\u001B[38;5;124m'''\u001B[39m\u001B[38;5;124m薪资20000 以上的有：\u001B[39m\u001B[38;5;130;01m\\n\u001B[39;00m\u001B[38;5;132;01m{\u001B[39;00msalary_above_20k\u001B[38;5;132;01m}\u001B[39;00m\n\u001B[1;32m     37\u001B[0m \u001B[38;5;124m                    \u001B[39m\u001B[38;5;130;01m\\n\u001B[39;00m\u001B[38;5;124m薪资20000 以下的有：\u001B[39m\u001B[38;5;130;01m\\n\u001B[39;00m\u001B[38;5;132;01m{\u001B[39;00msalary_below_20k\u001B[38;5;132;01m}\u001B[39;00m\u001B[38;5;124m'''\u001B[39m\n\u001B[1;32m     38\u001B[0m                     )\n\u001B[1;32m     40\u001B[0m app \u001B[38;5;241m=\u001B[39m QApplication([])\n\u001B[0;32m---> 41\u001B[0m stats \u001B[38;5;241m=\u001B[39m \u001B[43mStats\u001B[49m\u001B[43m(\u001B[49m\u001B[43m)\u001B[49m\n\u001B[1;32m     42\u001B[0m stats\u001B[38;5;241m.\u001B[39mui\u001B[38;5;241m.\u001B[39mshow()\n\u001B[1;32m     43\u001B[0m app\u001B[38;5;241m.\u001B[39mexec()\n",
      "Cell \u001B[0;32mIn[2], line 13\u001B[0m, in \u001B[0;36mStats.__init__\u001B[0;34m(self)\u001B[0m\n\u001B[1;32m      7\u001B[0m \u001B[38;5;28;01mdef\u001B[39;00m \u001B[38;5;21m__init__\u001B[39m(\u001B[38;5;28mself\u001B[39m):\n\u001B[1;32m      8\u001B[0m     \u001B[38;5;66;03m# 从文件中加载UI定义\u001B[39;00m\n\u001B[1;32m      9\u001B[0m \n\u001B[1;32m     10\u001B[0m     \u001B[38;5;66;03m# 从 UI 定义中动态 创建一个相应的窗口对象\u001B[39;00m\n\u001B[1;32m     11\u001B[0m     \u001B[38;5;66;03m# 注意：里面的控件对象也成为窗口对象的属性了\u001B[39;00m\n\u001B[1;32m     12\u001B[0m     \u001B[38;5;66;03m# 比如 self.ui.button , self.ui.textEdit\u001B[39;00m\n\u001B[0;32m---> 13\u001B[0m     \u001B[38;5;28mself\u001B[39m\u001B[38;5;241m.\u001B[39mui \u001B[38;5;241m=\u001B[39m \u001B[43muic\u001B[49m\u001B[38;5;241;43m.\u001B[39;49m\u001B[43mloadUi\u001B[49m\u001B[43m(\u001B[49m\u001B[38;5;124;43m'\u001B[39;49m\u001B[38;5;124;43mmain.ui\u001B[39;49m\u001B[38;5;124;43m'\u001B[39;49m\u001B[43m)\u001B[49m\n\u001B[1;32m     15\u001B[0m     \u001B[38;5;28mself\u001B[39m\u001B[38;5;241m.\u001B[39mui\u001B[38;5;241m.\u001B[39mbutton\u001B[38;5;241m.\u001B[39mclicked\u001B[38;5;241m.\u001B[39mconnect(\u001B[38;5;28mself\u001B[39m\u001B[38;5;241m.\u001B[39mhandleCalc)\n",
      "File \u001B[0;32m~/.local/lib/python3.12/site-packages/PyQt6/uic/load_ui.py:86\u001B[0m, in \u001B[0;36mloadUi\u001B[0;34m(uifile, baseinstance, package)\u001B[0m\n\u001B[1;32m     72\u001B[0m \u001B[38;5;250m\u001B[39m\u001B[38;5;124;03m\"\"\"loadUi(uifile, baseinstance=None, package='') -> widget\u001B[39;00m\n\u001B[1;32m     73\u001B[0m \n\u001B[1;32m     74\u001B[0m \u001B[38;5;124;03mLoad a Qt Designer .ui file and return an instance of the user interface.\u001B[39;00m\n\u001B[0;32m   (...)\u001B[0m\n\u001B[1;32m     81\u001B[0m \u001B[38;5;124;03mimports of custom widgets.\u001B[39;00m\n\u001B[1;32m     82\u001B[0m \u001B[38;5;124;03m\"\"\"\u001B[39;00m\n\u001B[1;32m     84\u001B[0m \u001B[38;5;28;01mfrom\u001B[39;00m \u001B[38;5;21;01m.\u001B[39;00m\u001B[38;5;21;01mLoader\u001B[39;00m\u001B[38;5;21;01m.\u001B[39;00m\u001B[38;5;21;01mloader\u001B[39;00m \u001B[38;5;28;01mimport\u001B[39;00m DynamicUILoader\n\u001B[0;32m---> 86\u001B[0m \u001B[38;5;28;01mreturn\u001B[39;00m \u001B[43mDynamicUILoader\u001B[49m\u001B[43m(\u001B[49m\u001B[43mpackage\u001B[49m\u001B[43m)\u001B[49m\u001B[38;5;241;43m.\u001B[39;49m\u001B[43mloadUi\u001B[49m\u001B[43m(\u001B[49m\u001B[43muifile\u001B[49m\u001B[43m,\u001B[49m\u001B[43m \u001B[49m\u001B[43mbaseinstance\u001B[49m\u001B[43m)\u001B[49m\n",
      "File \u001B[0;32m~/.local/lib/python3.12/site-packages/PyQt6/uic/Loader/loader.py:62\u001B[0m, in \u001B[0;36mDynamicUILoader.loadUi\u001B[0;34m(self, filename, toplevelInst)\u001B[0m\n\u001B[1;32m     59\u001B[0m \u001B[38;5;28;01mdef\u001B[39;00m \u001B[38;5;21mloadUi\u001B[39m(\u001B[38;5;28mself\u001B[39m, filename, toplevelInst):\n\u001B[1;32m     60\u001B[0m     \u001B[38;5;28mself\u001B[39m\u001B[38;5;241m.\u001B[39mtoplevelInst \u001B[38;5;241m=\u001B[39m toplevelInst\n\u001B[0;32m---> 62\u001B[0m     \u001B[38;5;28;01mreturn\u001B[39;00m \u001B[38;5;28;43mself\u001B[39;49m\u001B[38;5;241;43m.\u001B[39;49m\u001B[43mparse\u001B[49m\u001B[43m(\u001B[49m\u001B[43mfilename\u001B[49m\u001B[43m)\u001B[49m\n",
      "File \u001B[0;32m~/.local/lib/python3.12/site-packages/PyQt6/uic/uiparser.py:995\u001B[0m, in \u001B[0;36mUIParser.parse\u001B[0;34m(self, filename)\u001B[0m\n\u001B[1;32m    991\u001B[0m     base_dir \u001B[38;5;241m=\u001B[39m os\u001B[38;5;241m.\u001B[39mpath\u001B[38;5;241m.\u001B[39mdirname(filename)\n\u001B[1;32m    993\u001B[0m \u001B[38;5;28mself\u001B[39m\u001B[38;5;241m.\u001B[39mwprops\u001B[38;5;241m.\u001B[39mset_base_dir(base_dir)\n\u001B[0;32m--> 995\u001B[0m ui_file \u001B[38;5;241m=\u001B[39m \u001B[43mUIFile\u001B[49m\u001B[43m(\u001B[49m\u001B[43mfilename\u001B[49m\u001B[43m)\u001B[49m\n\u001B[1;32m    997\u001B[0m \u001B[38;5;28mself\u001B[39m\u001B[38;5;241m.\u001B[39muiname \u001B[38;5;241m=\u001B[39m ui_file\u001B[38;5;241m.\u001B[39mclass_name\n\u001B[1;32m    998\u001B[0m \u001B[38;5;28mself\u001B[39m\u001B[38;5;241m.\u001B[39mwprops\u001B[38;5;241m.\u001B[39muiname \u001B[38;5;241m=\u001B[39m ui_file\u001B[38;5;241m.\u001B[39mclass_name\n",
      "File \u001B[0;32m~/.local/lib/python3.12/site-packages/PyQt6/uic/ui_file.py:37\u001B[0m, in \u001B[0;36mUIFile.__init__\u001B[0;34m(self, ui_file)\u001B[0m\n\u001B[1;32m     35\u001B[0m     document \u001B[38;5;241m=\u001B[39m ElementTree\u001B[38;5;241m.\u001B[39mparse(ui_file)\n\u001B[1;32m     36\u001B[0m \u001B[38;5;28;01mexcept\u001B[39;00m \u001B[38;5;167;01mException\u001B[39;00m \u001B[38;5;28;01mas\u001B[39;00m e:\n\u001B[0;32m---> 37\u001B[0m     \u001B[38;5;28;43mself\u001B[39;49m\u001B[38;5;241;43m.\u001B[39;49m\u001B[43m_raise_exception\u001B[49m\u001B[43m(\u001B[49m\u001B[38;5;124;43m\"\u001B[39;49m\u001B[38;5;124;43minvalid Qt Designer file\u001B[39;49m\u001B[38;5;124;43m\"\u001B[39;49m\u001B[43m,\u001B[49m\u001B[43m \u001B[49m\u001B[43mdetail\u001B[49m\u001B[38;5;241;43m=\u001B[39;49m\u001B[38;5;28;43mstr\u001B[39;49m\u001B[43m(\u001B[49m\u001B[43me\u001B[49m\u001B[43m)\u001B[49m\u001B[43m)\u001B[49m\n\u001B[1;32m     39\u001B[0m \u001B[38;5;66;03m# Perform some sanity checks.\u001B[39;00m\n\u001B[1;32m     40\u001B[0m root \u001B[38;5;241m=\u001B[39m document\u001B[38;5;241m.\u001B[39mgetroot()\n",
      "File \u001B[0;32m~/.local/lib/python3.12/site-packages/PyQt6/uic/ui_file.py:92\u001B[0m, in \u001B[0;36mUIFile._raise_exception\u001B[0;34m(self, message, detail)\u001B[0m\n\u001B[1;32m     88\u001B[0m \u001B[38;5;250m\u001B[39m\u001B[38;5;124;03m\"\"\" Raise a UIFileException. \"\"\"\u001B[39;00m\n\u001B[1;32m     90\u001B[0m \u001B[38;5;28;01mfrom\u001B[39;00m \u001B[38;5;21;01m.\u001B[39;00m\u001B[38;5;21;01mexceptions\u001B[39;00m \u001B[38;5;28;01mimport\u001B[39;00m UIFileException\n\u001B[0;32m---> 92\u001B[0m \u001B[38;5;28;01mraise\u001B[39;00m UIFileException(\u001B[38;5;28mself\u001B[39m\u001B[38;5;241m.\u001B[39m_ui_file, message, detail\u001B[38;5;241m=\u001B[39mdetail)\n",
      "\u001B[0;31mUIFileException\u001B[0m: main.ui: invalid Qt Designer file: [Errno 2] No such file or directory: 'main.ui'"
     ]
    }
   ],
   "execution_count": 2
  },
  {
   "metadata": {},
   "cell_type": "markdown",
   "source": "### 窗口跳转",
   "id": "18cd19c543aaa43f"
  },
  {
   "metadata": {
    "ExecuteTime": {
     "end_time": "2024-11-17T05:44:28.538476Z",
     "start_time": "2024-11-17T05:44:05.668077Z"
    }
   },
   "cell_type": "code",
   "source": [
    "from PyQt6 import QtWidgets\n",
    "import sys\n",
    "\n",
    "class Window2(QtWidgets.QMainWindow):\n",
    "\n",
    "    def __init__(self):\n",
    "        super().__init__()\n",
    "        self.setWindowTitle('窗口2')\n",
    "\n",
    "        centralWidget = QtWidgets.QWidget()\n",
    "        self.setCentralWidget(centralWidget)\n",
    "\n",
    "        button = QtWidgets.QPushButton('按钮2')\n",
    "\n",
    "        grid = QtWidgets.QGridLayout(centralWidget)\n",
    "        grid.addWidget(button)\n",
    "\n",
    "\n",
    "class MainWindow(QtWidgets.QMainWindow):\n",
    "    def __init__(self):\n",
    "        super().__init__()\n",
    "        self.setWindowTitle('窗口1')\n",
    "\n",
    "        centralWidget = QtWidgets.QWidget()\n",
    "        self.setCentralWidget(centralWidget)\n",
    "\n",
    "        button = QtWidgets.QPushButton('打开新窗口')       # #4CAF50\n",
    "        button.setStyleSheet(\"\"\"\n",
    "            QPushButton {\n",
    "                background-color: blue;  /* 背景色 */           \n",
    "                color: white;               /* 字体颜色 */\n",
    "                border-radius: 8px;        /* 圆角半径 */\n",
    "                font-size: 14px;            /* 字体大小 */\n",
    "                padding: 4px;              /* 内边距 */\n",
    "            }\n",
    "            QPushButton:hover {\n",
    "                background-color: #45a049;  /* 鼠标悬停时的背景色 */\n",
    "            }\n",
    "            QPushButton:pressed {\n",
    "                background-color: #3e8e41;  /* 按下时的背景色 */\n",
    "            }\n",
    "        \"\"\")\n",
    "        button.clicked.connect(self.open_new_window)\n",
    "\n",
    "        grid = QtWidgets.QGridLayout(centralWidget)\n",
    "        grid.addWidget(button)\n",
    "\n",
    "    def open_new_window(self):\n",
    "        # 实例化另外一个窗口\n",
    "        self.window2 = Window2()\n",
    "        # 显示新窗口\n",
    "        self.window2.show()\n",
    "        # 关闭自己\n",
    "        # self.close()\n",
    "\n",
    "\n",
    "app = QtWidgets.QApplication(sys.argv)\n",
    "window = MainWindow()\n",
    "window.show()\n",
    "app.exec()"
   ],
   "id": "41296c7e049a6195",
   "outputs": [
    {
     "name": "stderr",
     "output_type": "stream",
     "text": [
      "2024-11-17 13:44:06.006 python[77883:1935159] +[IMKClient subclass]: chose IMKClient_Modern\n",
      "2024-11-17 13:44:06.006 python[77883:1935159] +[IMKInputSession subclass]: chose IMKInputSession_Modern\n"
     ]
    },
    {
     "data": {
      "text/plain": [
       "0"
      ]
     },
     "execution_count": 1,
     "metadata": {},
     "output_type": "execute_result"
    }
   ],
   "execution_count": 1
  },
  {
   "metadata": {},
   "cell_type": "markdown",
   "source": "### 弹出模式对话框",
   "id": "9c92473488249209"
  },
  {
   "metadata": {
    "ExecuteTime": {
     "end_time": "2024-11-17T06:11:00.741345Z",
     "start_time": "2024-11-17T06:10:40.039756Z"
    }
   },
   "cell_type": "code",
   "source": [
    "from PyQt6 import QtWidgets\n",
    "import sys\n",
    "\n",
    "class MyDialog(QtWidgets.QDialog):\n",
    "    def __init__(self):\n",
    "        super().__init__()\n",
    "        self.setWindowTitle('模式对话框')\n",
    "\n",
    "        self.resize(500, 400)\n",
    "        self.textEdit = QtWidgets.QPlainTextEdit(self)\n",
    "        self.textEdit.setPlaceholderText(\"请输入薪资表\")\n",
    "        self.textEdit.move(10, 25)\n",
    "        self.textEdit.resize(300, 350)\n",
    "\n",
    "        self.button = QtWidgets.QPushButton('统计', self)\n",
    "        self.button.move(380, 80)\n",
    "\n",
    "class MainWindow(QtWidgets.QMainWindow):\n",
    "    def __init__(self):\n",
    "        super().__init__()\n",
    "        self.setWindowTitle('主窗口')\n",
    "\n",
    "        centralWidget = QtWidgets.QWidget()\n",
    "        self.setCentralWidget(centralWidget)\n",
    "\n",
    "        button = QtWidgets.QPushButton('打开模式对话框')\n",
    "        button.clicked.connect(self.open_new_window)\n",
    "\n",
    "        grid = QtWidgets.QGridLayout(centralWidget)\n",
    "        grid.addWidget(button)\n",
    "\n",
    "    def open_new_window(self):\n",
    "        # 实例化一个对话框类\n",
    "        self.dlg = MyDialog()        \n",
    "        # 显示对话框，代码阻塞在这里，\n",
    "        # 等待对话框关闭后，才能继续往后执行\n",
    "        self.dlg.exec()\n",
    "\n",
    "app = QtWidgets.QApplication(sys.argv)\n",
    "window = MainWindow()\n",
    "window.show()\n",
    "app.exec()"
   ],
   "id": "aa83be179e81bac9",
   "outputs": [
    {
     "name": "stderr",
     "output_type": "stream",
     "text": [
      "2024-11-17 14:10:40.394 python[82067:1952696] +[IMKClient subclass]: chose IMKClient_Modern\n",
      "2024-11-17 14:10:40.394 python[82067:1952696] +[IMKInputSession subclass]: chose IMKInputSession_Modern\n",
      "2024-11-17 14:10:42.145 python[82067:1952696] error messaging the mach port for IMKCFRunLoopWakeUpReliable\n",
      "2024-11-17 14:10:46.972 python[82067:1952696] TSM AdjustCapsLockLEDForKeyTransitionHandling - _ISSetPhysicalKeyboardCapsLockLED Inhibit\n"
     ]
    },
    {
     "data": {
      "text/plain": [
       "0"
      ]
     },
     "execution_count": 2,
     "metadata": {},
     "output_type": "execute_result"
    }
   ],
   "execution_count": 2
  },
  {
   "metadata": {
    "ExecuteTime": {
     "end_time": "2024-11-17T11:03:50.101559Z",
     "start_time": "2024-11-17T11:03:31.094901Z"
    }
   },
   "cell_type": "code",
   "source": [
    "import sys\n",
    "from PyQt6.QtWidgets import (\n",
    "    QApplication, QMainWindow, QVBoxLayout, QWidget, QTabWidget, QProgressBar, QPushButton\n",
    ")\n",
    "from PyQt6.QtCore import Qt, QTimer\n",
    "from PyQt6.QtOpenGLWidgets import QOpenGLWidget\n",
    "from OpenGL.GL import glClear, GL_COLOR_BUFFER_BIT, glClearColor\n",
    "\n",
    "\n",
    "class OpenGLWidget(QOpenGLWidget):\n",
    "    \"\"\"\n",
    "    自定义 OpenGL 绘图区域。\n",
    "    \"\"\"\n",
    "\n",
    "    def initializeGL(self):\n",
    "        \"\"\"\n",
    "        初始化 OpenGL 环境。\n",
    "        \"\"\"\n",
    "        glClearColor(0.1, 0.2, 0.3, 1.0)  # 设置背景颜色\n",
    "\n",
    "    def resizeGL(self, w, h):\n",
    "        \"\"\"\n",
    "        调整 OpenGL 窗口大小。\n",
    "        \"\"\"\n",
    "        self.glViewport(0, 0, w, h)\n",
    "\n",
    "    def paintGL(self):\n",
    "        \"\"\"\n",
    "        渲染 OpenGL 内容。\n",
    "        \"\"\"\n",
    "        glClear(GL_COLOR_BUFFER_BIT)  # 清空缓冲区\n",
    "\n",
    "\n",
    "class MainWindow(QMainWindow):\n",
    "    def __init__(self):\n",
    "        super().__init__()\n",
    "\n",
    "        # 设置窗口标题\n",
    "        self.setWindowTitle(\"OpenGL 和 PyQt6 示例\")\n",
    "\n",
    "        # 创建主窗口的小部件\n",
    "        main_widget = QWidget()\n",
    "        self.setCentralWidget(main_widget)\n",
    "\n",
    "        # 创建一个 Tab Widget\n",
    "        self.tab_widget = QTabWidget()\n",
    "        \n",
    "        # 标签页1：OpenGL 绘图\n",
    "        self.opengl_widget = OpenGLWidget()\n",
    "        self.tab_widget.addTab(self.opengl_widget, \"OpenGL 绘图\")\n",
    "\n",
    "        # 标签页2：进度条示例\n",
    "        progress_tab = QWidget()\n",
    "        self.setup_progress_tab(progress_tab)\n",
    "        self.tab_widget.addTab(progress_tab, \"进度条示例\")\n",
    "\n",
    "        # 布局\n",
    "        layout = QVBoxLayout()\n",
    "        layout.addWidget(self.tab_widget)\n",
    "        main_widget.setLayout(layout)\n",
    "\n",
    "    def setup_progress_tab(self, tab):\n",
    "        \"\"\"\n",
    "        在指定的标签页中添加进度条和按钮。\n",
    "        \"\"\"\n",
    "        layout = QVBoxLayout()\n",
    "\n",
    "        # 添加进度条\n",
    "        self.progress_bar = QProgressBar()\n",
    "        self.progress_bar.setRange(0, 100)  # 设置范围\n",
    "        self.progress_bar.setValue(0)  # 初始值\n",
    "        layout.addWidget(self.progress_bar)\n",
    "\n",
    "        # 添加按钮\n",
    "        self.start_button = QPushButton(\"开始\")\n",
    "        self.start_button.clicked.connect(self.start_progress)\n",
    "        layout.addWidget(self.start_button)\n",
    "\n",
    "        # 设置布局\n",
    "        tab.setLayout(layout)\n",
    "\n",
    "    def start_progress(self):\n",
    "        \"\"\"\n",
    "        模拟进度条的更新。\n",
    "        \"\"\"\n",
    "        self.progress_value = 0\n",
    "\n",
    "        # 创建定时器，模拟进度条更新\n",
    "        self.timer = QTimer(self)\n",
    "        self.timer.timeout.connect(self.update_progress)\n",
    "        self.timer.start(50)  # 每 50 毫秒更新一次\n",
    "\n",
    "    def update_progress(self):\n",
    "        \"\"\"\n",
    "        更新进度条的值。\n",
    "        \"\"\"\n",
    "        self.progress_value += 1\n",
    "        self.progress_bar.setValue(self.progress_value)\n",
    "\n",
    "        # 停止定时器\n",
    "        if self.progress_value >= 100:\n",
    "            self.timer.stop()\n",
    "\n",
    "\n",
    "if __name__ == \"__main__\":\n",
    "    app = QApplication(sys.argv)\n",
    "    window = MainWindow()\n",
    "    window.resize(800, 600)\n",
    "    window.show()\n",
    "    sys.exit(app.exec())"
   ],
   "id": "ee69287f5da26c1e",
   "outputs": [
    {
     "ename": "AttributeError",
     "evalue": "'OpenGLWidget' object has no attribute 'glViewport'",
     "output_type": "error",
     "traceback": [
      "\u001B[0;31m---------------------------------------------------------------------------\u001B[0m",
      "\u001B[0;31mAttributeError\u001B[0m                            Traceback (most recent call last)",
      "Cell \u001B[0;32mIn[1], line 25\u001B[0m, in \u001B[0;36mOpenGLWidget.resizeGL\u001B[0;34m(self, w, h)\u001B[0m\n\u001B[1;32m     21\u001B[0m \u001B[38;5;28;01mdef\u001B[39;00m \u001B[38;5;21mresizeGL\u001B[39m(\u001B[38;5;28mself\u001B[39m, w, h):\n\u001B[1;32m     22\u001B[0m \u001B[38;5;250m    \u001B[39m\u001B[38;5;124;03m\"\"\"\u001B[39;00m\n\u001B[1;32m     23\u001B[0m \u001B[38;5;124;03m    调整 OpenGL 窗口大小。\u001B[39;00m\n\u001B[1;32m     24\u001B[0m \u001B[38;5;124;03m    \"\"\"\u001B[39;00m\n\u001B[0;32m---> 25\u001B[0m     \u001B[38;5;28;43mself\u001B[39;49m\u001B[38;5;241;43m.\u001B[39;49m\u001B[43mglViewport\u001B[49m(\u001B[38;5;241m0\u001B[39m, \u001B[38;5;241m0\u001B[39m, w, h)\n",
      "\u001B[0;31mAttributeError\u001B[0m: 'OpenGLWidget' object has no attribute 'glViewport'"
     ]
    },
    {
     "ename": "AttributeError",
     "evalue": "'OpenGLWidget' object has no attribute 'glViewport'",
     "output_type": "error",
     "traceback": [
      "\u001B[0;31m---------------------------------------------------------------------------\u001B[0m",
      "\u001B[0;31mAttributeError\u001B[0m                            Traceback (most recent call last)",
      "Cell \u001B[0;32mIn[1], line 25\u001B[0m, in \u001B[0;36mOpenGLWidget.resizeGL\u001B[0;34m(self, w, h)\u001B[0m\n\u001B[1;32m     21\u001B[0m \u001B[38;5;28;01mdef\u001B[39;00m \u001B[38;5;21mresizeGL\u001B[39m(\u001B[38;5;28mself\u001B[39m, w, h):\n\u001B[1;32m     22\u001B[0m \u001B[38;5;250m    \u001B[39m\u001B[38;5;124;03m\"\"\"\u001B[39;00m\n\u001B[1;32m     23\u001B[0m \u001B[38;5;124;03m    调整 OpenGL 窗口大小。\u001B[39;00m\n\u001B[1;32m     24\u001B[0m \u001B[38;5;124;03m    \"\"\"\u001B[39;00m\n\u001B[0;32m---> 25\u001B[0m     \u001B[38;5;28;43mself\u001B[39;49m\u001B[38;5;241;43m.\u001B[39;49m\u001B[43mglViewport\u001B[49m(\u001B[38;5;241m0\u001B[39m, \u001B[38;5;241m0\u001B[39m, w, h)\n",
      "\u001B[0;31mAttributeError\u001B[0m: 'OpenGLWidget' object has no attribute 'glViewport'"
     ]
    },
    {
     "name": "stderr",
     "output_type": "stream",
     "text": [
      "2024-11-17 19:03:31.835 python[93078:2007053] +[IMKClient subclass]: chose IMKClient_Modern\n"
     ]
    },
    {
     "ename": "SystemExit",
     "evalue": "0",
     "output_type": "error",
     "traceback": [
      "An exception has occurred, use %tb to see the full traceback.\n",
      "\u001B[0;31mSystemExit\u001B[0m\u001B[0;31m:\u001B[0m 0\n"
     ]
    },
    {
     "name": "stderr",
     "output_type": "stream",
     "text": [
      "/Users/liuwei/.local/lib/python3.12/site-packages/IPython/core/interactiveshell.py:3585: UserWarning: To exit: use 'exit', 'quit', or Ctrl-D.\n",
      "  warn(\"To exit: use 'exit', 'quit', or Ctrl-D.\", stacklevel=1)\n"
     ]
    }
   ],
   "execution_count": 1
  },
  {
   "metadata": {
    "ExecuteTime": {
     "end_time": "2024-11-17T11:24:31.546099Z",
     "start_time": "2024-11-17T11:21:03.317168Z"
    }
   },
   "cell_type": "code",
   "source": [
    "import sys\n",
    "from PyQt6.QtWidgets import (\n",
    "    QApplication, QMainWindow, QTabWidget, QVBoxLayout, QWidget,\n",
    "    QPushButton, QLabel, QLineEdit, QFormLayout\n",
    ")\n",
    "\n",
    "\n",
    "class MainWindow(QMainWindow):\n",
    "    def __init__(self):\n",
    "        super().__init__()\n",
    "\n",
    "        # 创建主窗口\n",
    "        self.setWindowTitle(\"QTabWidget 示例\")\n",
    "        self.resize(600, 400)\n",
    "\n",
    "        # 创建 QTabWidget\n",
    "        self.tab_widget = QTabWidget()\n",
    "        self.setCentralWidget(self.tab_widget)\n",
    "\n",
    "        # 添加简单控件\n",
    "        self.tab_widget.addTab(QLabel(\"这是一个简单标签页\"), \"简单控件\")\n",
    "\n",
    "        # 添加布局内容\n",
    "        layout_widget = QWidget()\n",
    "        layout = QVBoxLayout()\n",
    "        layout.addWidget(QLabel(\"This is inside a layout\"))\n",
    "        layout.addWidget(QPushButton(\"Click Me\"))\n",
    "        layout_widget.setLayout(layout)\n",
    "        self.tab_widget.addTab(layout_widget, \"布局\")\n",
    "\n",
    "        # 添加表单\n",
    "        form_widget = QWidget()\n",
    "        form_layout = QFormLayout()\n",
    "        form_layout.addRow(\"Name:\", QLineEdit())\n",
    "        form_layout.addRow(\"Email:\", QLineEdit())\n",
    "        form_widget.setLayout(form_layout)\n",
    "        self.tab_widget.addTab(form_widget, \"表单\")\n",
    "\n",
    "        # 添加动态标签页\n",
    "        add_tab_button = QPushButton(\"添加动态标签页\")\n",
    "        add_tab_button.clicked.connect(self.add_dynamic_tab)\n",
    "        self.tab_widget.addTab(add_tab_button, \"动态标签\")\n",
    "\n",
    "    def add_dynamic_tab(self):\n",
    "        new_tab = QLabel(f\"这是标签页 {self.tab_widget.count() + 1}\")\n",
    "        self.tab_widget.addTab(new_tab, f\"标签页 {self.tab_widget.count() + 1}\")\n",
    "\n",
    "\n",
    "if __name__ == \"__main__\":\n",
    "    app = QApplication(sys.argv)\n",
    "    window = MainWindow()\n",
    "    window.show()\n",
    "    sys.exit(app.exec())"
   ],
   "id": "b44632bce3e43ade",
   "outputs": [
    {
     "name": "stderr",
     "output_type": "stream",
     "text": [
      "2024-11-17 19:21:03.626 python[39187:2218899] +[IMKClient subclass]: chose IMKClient_Modern\n",
      "2024-11-17 19:21:15.567 python[39187:2218899] TSM AdjustCapsLockLEDForKeyTransitionHandling - _ISSetPhysicalKeyboardCapsLockLED Inhibit\n"
     ]
    },
    {
     "ename": "SystemExit",
     "evalue": "0",
     "output_type": "error",
     "traceback": [
      "An exception has occurred, use %tb to see the full traceback.\n",
      "\u001B[0;31mSystemExit\u001B[0m\u001B[0;31m:\u001B[0m 0\n"
     ]
    },
    {
     "name": "stderr",
     "output_type": "stream",
     "text": [
      "/Users/liuwei/.local/lib/python3.12/site-packages/IPython/core/interactiveshell.py:3585: UserWarning: To exit: use 'exit', 'quit', or Ctrl-D.\n",
      "  warn(\"To exit: use 'exit', 'quit', or Ctrl-D.\", stacklevel=1)\n"
     ]
    }
   ],
   "execution_count": 1
  },
  {
   "metadata": {},
   "cell_type": "code",
   "outputs": [],
   "execution_count": null,
   "source": "",
   "id": "4bd1d34fda220f1d"
  }
 ],
 "metadata": {
  "kernelspec": {
   "display_name": "Python 3",
   "language": "python",
   "name": "python3"
  },
  "language_info": {
   "codemirror_mode": {
    "name": "ipython",
    "version": 2
   },
   "file_extension": ".py",
   "mimetype": "text/x-python",
   "name": "python",
   "nbconvert_exporter": "python",
   "pygments_lexer": "ipython2",
   "version": "2.7.6"
  }
 },
 "nbformat": 4,
 "nbformat_minor": 5
}
